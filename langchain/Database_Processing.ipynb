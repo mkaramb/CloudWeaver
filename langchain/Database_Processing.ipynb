{
  "nbformat": 4,
  "nbformat_minor": 0,
  "metadata": {
    "colab": {
      "provenance": [],
      "mount_file_id": "1Y4eoiJ8DGi9abJ3STPX1tahL1Xo5hzMM",
      "authorship_tag": "ABX9TyORvp9Dji1/XLtnHDdQ0fuX",
      "include_colab_link": true
    },
    "kernelspec": {
      "name": "python3",
      "display_name": "Python 3"
    },
    "language_info": {
      "name": "python"
    }
  },
  "cells": [
    {
      "cell_type": "markdown",
      "metadata": {
        "id": "view-in-github",
        "colab_type": "text"
      },
      "source": [
        "<a href=\"https://colab.research.google.com/github/mkaramb/CloudWeaver/blob/retriever-draft/Database_Processing.ipynb\" target=\"_parent\"><img src=\"https://colab.research.google.com/assets/colab-badge.svg\" alt=\"Open In Colab\"/></a>"
      ]
    },
    {
      "cell_type": "code",
      "source": [
        "!pip install -U --upgrade --quiet langchain-core langchain-community langchain"
      ],
      "metadata": {
        "id": "6PWs8iTMHwLl"
      },
      "execution_count": null,
      "outputs": []
    },
    {
      "cell_type": "code",
      "source": [
        "from google.colab import drive\n",
        "drive.mount('/content/drive')"
      ],
      "metadata": {
        "colab": {
          "base_uri": "https://localhost:8080/"
        },
        "id": "20fdb04oEmxY",
        "outputId": "86f86912-003b-4636-8ed5-ff85dc693a71"
      },
      "execution_count": null,
      "outputs": [
        {
          "output_type": "stream",
          "name": "stdout",
          "text": [
            "Drive already mounted at /content/drive; to attempt to forcibly remount, call drive.mount(\"/content/drive\", force_remount=True).\n"
          ]
        }
      ]
    },
    {
      "cell_type": "code",
      "source": [
        "#token = \"GITHUB TOKEN\"\n",
        "\n",
        "!git clone https://{GITHUB TOKEN}:x-oauth-basic@github.com/mkaramb/CloudWeaver.git"
      ],
      "metadata": {
        "colab": {
          "base_uri": "https://localhost:8080/"
        },
        "id": "YOnJhkq7FUSq",
        "outputId": "330190ac-9d96-4ae4-cbaa-90b2e5058f89"
      },
      "execution_count": null,
      "outputs": [
        {
          "output_type": "stream",
          "name": "stdout",
          "text": [
            "fatal: destination path 'CloudWeaver' already exists and is not an empty directory.\n"
          ]
        }
      ]
    },
    {
      "cell_type": "code",
      "source": [
        "%cd CloudWeaver/data"
      ],
      "metadata": {
        "colab": {
          "base_uri": "https://localhost:8080/"
        },
        "id": "aGk389x_F0H7",
        "outputId": "695fd5fa-42fb-494a-8125-c100245fedea"
      },
      "execution_count": null,
      "outputs": [
        {
          "output_type": "stream",
          "name": "stdout",
          "text": [
            "/content/CloudWeaver/data\n"
          ]
        }
      ]
    },
    {
      "cell_type": "code",
      "source": [
        "base_path = '/content/CloudWeaver/data/code'\n",
        "\n",
        "!ls \"$base_path\""
      ],
      "metadata": {
        "colab": {
          "base_uri": "https://localhost:8080/"
        },
        "id": "dpc2Gya5HN1y",
        "outputId": "d07238b2-efe0-4173-d862-7c4d61bca285"
      },
      "execution_count": null,
      "outputs": [
        {
          "output_type": "stream",
          "name": "stdout",
          "text": [
            "address\t\t  cloud-storage   github-actions-runners  lb-http\t      service-accounts\n",
            "bastion-host\t  composer\t  group\t\t\t  lb-internal\t      slo\n",
            "bigquery\t  container-vm\t  gsuite-export\t\t  log-export\t      sql-db\n",
            "bootstrap\t  dataflow\t  healthcare\t\t  memorystore\t      startup-scripts\n",
            "cloud-datastore   data-fusion\t  iam\t\t\t  network\t      utils\n",
            "cloud-dns\t  datalab\t  jenkins\t\t  org-policy\t      vault\n",
            "cloud-nat\t  event-function  kms\t\t\t  pubsub\t      vm\n",
            "cloud-operations  folders\t  kubernetes-engine\t  sap\t\t      vpc-service-controls\n",
            "cloud-router\t  gcloud\t  lb\t\t\t  scheduled-function  vpn\n"
          ]
        }
      ]
    },
    {
      "cell_type": "code",
      "source": [
        "import os\n",
        "\n",
        "for root, dirs, files in os.walk(base_path):\n",
        "    print(f\"Current directory: {root}\")\n",
        "    print(f\"Subdirectories: {dirs}\")\n",
        "    print(f\"Files: {files}\")\n",
        "    # Rest of the processing logic...\n"
      ],
      "metadata": {
        "id": "IN2DW0aRIZ0s"
      },
      "execution_count": null,
      "outputs": []
    },
    {
      "cell_type": "code",
      "execution_count": null,
      "metadata": {
        "colab": {
          "base_uri": "https://localhost:8080/"
        },
        "id": "U_xRQ65QBGlA",
        "outputId": "6877117a-e545-4bee-a499-6647644ced54"
      },
      "outputs": [
        {
          "output_type": "stream",
          "name": "stdout",
          "text": [
            "{'type': 'readme', 'product': 'slo'}\n",
            "{'type': 'outputs', 'product': 'slo', 'folder_type': 'examples', 'instance': 'slo-generator', 'sub_instance': 'sre_export_cloudevent_exporter'}\n",
            "{'type': 'main', 'product': 'slo', 'folder_type': 'examples', 'instance': 'slo-generator', 'sub_instance': 'sre_export_cloudevent_exporter'}\n",
            "{'type': 'variables', 'product': 'slo', 'folder_type': 'examples', 'instance': 'slo-generator', 'sub_instance': 'sre_export_cloudevent_exporter'}\n",
            "{'type': 'readme', 'product': 'slo', 'folder_type': 'examples', 'instance': 'slo-generator', 'sub_instance': 'sre_export_cloudevent_exporter'}\n"
          ]
        }
      ],
      "source": [
        "from langchain_core.documents import Document\n",
        "\n",
        "def read_code_files(base_path):\n",
        "    documents = []\n",
        "\n",
        "    for root, dirs, files in os.walk(base_path):\n",
        "        path_parts = root.split(os.sep)\n",
        "        product, type, instance = None, None, None\n",
        "        if 'code' in path_parts:\n",
        "            code_index = path_parts.index('code')\n",
        "            if len(path_parts) > code_index + 1:\n",
        "                product = path_parts[code_index + 1]\n",
        "            if len(path_parts) > code_index + 2 and path_parts[code_index + 2] in ['modules', 'examples']:\n",
        "                type = path_parts[code_index + 2]\n",
        "                if len(path_parts) > code_index + 3:\n",
        "                    instance = path_parts[code_index + 3]\n",
        "\n",
        "        for file in files:\n",
        "            metadata = extract_metadata(file, path_parts)\n",
        "            if file.endswith('.tf') or file.lower().endswith('readme.md'):\n",
        "                with open(os.path.join(root, file), 'r') as content_file:\n",
        "                    content = content_file.read()\n",
        "                document = Document(page_content=content, metadata=metadata)\n",
        "                documents.append(document)\n",
        "\n",
        "    return documents\n",
        "\n",
        "def extract_metadata(file_name, path_parts):\n",
        "    metadata = {'type': None}\n",
        "    # File type determination\n",
        "    if file_name.lower() == 'main.tf':\n",
        "        metadata['type'] = 'main'\n",
        "    elif file_name.lower() == 'variables.tf':\n",
        "        metadata['type'] = 'variables'\n",
        "    elif file_name.lower() == 'outputs.tf':\n",
        "        metadata['type'] = 'outputs'\n",
        "    elif file_name.lower().endswith('readme.md'):\n",
        "        metadata['type'] = 'readme'\n",
        "\n",
        "    # Extract product, folder_type, instance, and sub-instance\n",
        "    if 'code' in path_parts:\n",
        "        code_index = path_parts.index('code')\n",
        "        if len(path_parts) > code_index + 1:\n",
        "            metadata['product'] = path_parts[code_index + 1]\n",
        "        if len(path_parts) > code_index + 2 and path_parts[code_index + 2] in ['modules', 'examples']:\n",
        "            metadata['folder_type'] = path_parts[code_index + 2]\n",
        "            # Instance is the first level below modules/examples\n",
        "            if len(path_parts) > code_index + 3:\n",
        "                metadata['instance'] = path_parts[code_index + 3]\n",
        "            # Any additional levels are considered as part of sub-instance\n",
        "            if len(path_parts) > code_index + 4:\n",
        "                metadata['sub_instance'] = '/'.join(path_parts[code_index + 4:])\n",
        "\n",
        "    return metadata\n",
        "\n",
        "base_path = '/content/CloudWeaver/data/code'\n",
        "documents = read_code_files(base_path)\n",
        "\n",
        "# Printing example metadata for demonstration\n",
        "for doc in documents[:5]:  # Print the metadata of the first 5 documents\n",
        "    print(doc.metadata)\n"
      ]
    },
    {
      "cell_type": "code",
      "source": [
        "import pickle\n",
        "\n",
        "with open('cw_db_metadata.pkl', 'wb') as pickle_file:\n",
        "    pickle.dump(documents, pickle_file)"
      ],
      "metadata": {
        "id": "-c27pUH6JSPo"
      },
      "execution_count": null,
      "outputs": []
    },
    {
      "cell_type": "code",
      "source": [
        "from google.colab import files\n",
        "\n",
        "files.download('cw_db_metadata.pkl')\n"
      ],
      "metadata": {
        "colab": {
          "base_uri": "https://localhost:8080/",
          "height": 17
        },
        "id": "-nfAKOHYMrms",
        "outputId": "6069b824-a2b3-4946-9b9b-86968292c657"
      },
      "execution_count": null,
      "outputs": [
        {
          "output_type": "display_data",
          "data": {
            "text/plain": [
              "<IPython.core.display.Javascript object>"
            ],
            "application/javascript": [
              "\n",
              "    async function download(id, filename, size) {\n",
              "      if (!google.colab.kernel.accessAllowed) {\n",
              "        return;\n",
              "      }\n",
              "      const div = document.createElement('div');\n",
              "      const label = document.createElement('label');\n",
              "      label.textContent = `Downloading \"${filename}\": `;\n",
              "      div.appendChild(label);\n",
              "      const progress = document.createElement('progress');\n",
              "      progress.max = size;\n",
              "      div.appendChild(progress);\n",
              "      document.body.appendChild(div);\n",
              "\n",
              "      const buffers = [];\n",
              "      let downloaded = 0;\n",
              "\n",
              "      const channel = await google.colab.kernel.comms.open(id);\n",
              "      // Send a message to notify the kernel that we're ready.\n",
              "      channel.send({})\n",
              "\n",
              "      for await (const message of channel.messages) {\n",
              "        // Send a message to notify the kernel that we're ready.\n",
              "        channel.send({})\n",
              "        if (message.buffers) {\n",
              "          for (const buffer of message.buffers) {\n",
              "            buffers.push(buffer);\n",
              "            downloaded += buffer.byteLength;\n",
              "            progress.value = downloaded;\n",
              "          }\n",
              "        }\n",
              "      }\n",
              "      const blob = new Blob(buffers, {type: 'application/binary'});\n",
              "      const a = document.createElement('a');\n",
              "      a.href = window.URL.createObjectURL(blob);\n",
              "      a.download = filename;\n",
              "      div.appendChild(a);\n",
              "      a.click();\n",
              "      div.remove();\n",
              "    }\n",
              "  "
            ]
          },
          "metadata": {}
        },
        {
          "output_type": "display_data",
          "data": {
            "text/plain": [
              "<IPython.core.display.Javascript object>"
            ],
            "application/javascript": [
              "download(\"download_9c10f1cc-fbca-47ca-8076-30db8786578e\", \"cw_db_metadata.pkl\", 4897631)"
            ]
          },
          "metadata": {}
        }
      ]
    }
  ]
}